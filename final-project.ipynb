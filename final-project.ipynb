{
 "cells": [
  {
   "cell_type": "markdown",
   "metadata": {},
   "source": [
    "<h1>\n",
    "    <a href='#0.'>Содержание</a>\n",
    "</h1>"
   ]
  },
  {
   "cell_type": "markdown",
   "metadata": {},
   "source": [
    "<ul>\n",
    "    <li>    \n",
    "        <a href='#1.'>1. Описание проекта</a>\n",
    "    </li>\n",
    "    <li>\n",
    "        <a href='#2.'>2. Описание данных games.csv</a>\n",
    "    </li>\n",
    "    <li>\n",
    "        <a href='#3.'>3. Изучение данных</a>\n",
    "    </li>\n",
    "    <li>\n",
    "        <a href='#4.'>4. Подготовка данных</a>\n",
    "    </li>\n",
    "    <li>\n",
    "        <a href='#5.'>5. Исследовательский анализ данных</a>\n",
    "    </li>\n",
    "    <li>\n",
    "        <a href='#6.'>6. Составление портрета пользователя каждого региона</a>\n",
    "    </li>\n",
    "    <li>\n",
    "        <a href='#7.'>7. Исследование статистических показателей</a>\n",
    "    </li>\n",
    "    <li>\n",
    "        <a href='#8.'>8. Проверка гипотез</a>\n",
    "    </li>\n",
    "    <li>\n",
    "        <a href='#9.'>9. Общий вывод</a>\n",
    "    </li>\n",
    "</ul>"
   ]
  },
  {
   "cell_type": "markdown",
   "metadata": {},
   "source": [
    "<h2 id='Описание проекта'>Описание проекта</h2>\n",
    "<a name='1.'></a>\n",
    "<a class='anchor-link' href='#Описание проекта'></a>\n",
    "\n",
    "Вы работаете в интернет-магазине «Стримчик», который продаёт по всему миру компьютерные игры. Из открытых источников доступны исторические данные о продажах игр, оценки пользователей и экспертов, жанры и платформы (например, Xbox или PlayStation). Вам нужно выявить определяющие успешность игры закономерности. Это позволит сделать ставку на потенциально популярный продукт и спланировать рекламные кампании.\n",
    "\n",
    "Перед вами данные до 2016 года. Представим, что сейчас декабрь 2016 г., и вы планируете кампанию на 2017-й. Нужно отработать принцип работы с данными. Не важно, прогнозируете ли вы продажи на 2017 год по данным 2016-го или же 2027-й — по данным 2026 года."
   ]
  },
  {
   "cell_type": "markdown",
   "metadata": {},
   "source": [
    "<h2 id='Описание данных games.csv'>Описание данных games.csv</h2>\n",
    "<a name='2.'></a>\n",
    "<a class='anchor-link' href='#Описание данных games.csv'></a>\n",
    "\n",
    "- Name — название игры\n",
    "- Platform — платформа\n",
    "- Year_of_Release — год выпуска\n",
    "- Genre — жанр игры\n",
    "- NA_sales — продажи в Северной Америке (миллионы долларов)\n",
    "- EU_sales — продажи в Европе (миллионы долларов)\n",
    "- JP_sales — продажи в Японии (миллионы долларов)\n",
    "- Other_sales — продажи в других странах (миллионы долларов)\n",
    "- Critic_Score — оценка критиков (от 0 до 100)\n",
    "- User_Score — оценка пользователей (от 0 до 10)\n",
    "- Rating — рейтинг от организации ESRB (англ. Entertainment Software Rating Board). Эта ассоциация определяет рейтинг компьютерных игр и присваивает им подходящую возрастную категорию.\n",
    "\n",
    "Данные за 2016 год могут быть неполными."
   ]
  },
  {
   "cell_type": "markdown",
   "metadata": {},
   "source": [
    "<h2 id='Изучение данных'>Изучение данных</h2>\n",
    "<a name='3.'></a>\n",
    "<a class='anchor-link' href='#Изучение данных'></a>"
   ]
  },
  {
   "cell_type": "code",
   "execution_count": null,
   "metadata": {},
   "outputs": [],
   "source": [
    "!pip install plotly"
   ]
  },
  {
   "cell_type": "code",
   "execution_count": null,
   "metadata": {},
   "outputs": [],
   "source": [
    "# библиотеки для обработки данных\n",
    "import pandas as pd\n",
    "import numpy as np\n",
    "from scipy import stats as st\n",
    "\n",
    "# библиотеки для визуализации данных\n",
    "from matplotlib import pyplot as plt\n",
    "import seaborn as sns\n",
    "from plotly.offline import init_notebook_mode, plot, iplot\n",
    "import plotly\n",
    "import plotly.graph_objs as go\n",
    "import plotly.express as px\n",
    "\n",
    "import warnings\n",
    "warnings.filterwarnings(\"ignore\")\n",
    "\n",
    "init_notebook_mode(connected=True)\n",
    "%matplotlib inline"
   ]
  },
  {
   "cell_type": "code",
   "execution_count": null,
   "metadata": {},
   "outputs": [],
   "source": [
    "# загружаем исходный набор данных - games.csv\n",
    "df = pd.read_csv('/datasets/games.csv')"
   ]
  },
  {
   "cell_type": "code",
   "execution_count": null,
   "metadata": {},
   "outputs": [],
   "source": [
    "# открываем первые 5 объектов набора данных \n",
    "df.head()"
   ]
  },
  {
   "cell_type": "code",
   "execution_count": null,
   "metadata": {},
   "outputs": [],
   "source": [
    "df.info()"
   ]
  },
  {
   "cell_type": "code",
   "execution_count": null,
   "metadata": {},
   "outputs": [],
   "source": [
    "years         = []\n",
    "\n",
    "rt_nulls      = []\n",
    "cs_nulls      = []\n",
    "us_nulls      = []\n",
    "\n",
    "cnt_rt_nulls  = []\n",
    "cnt_cs_nulls  = []\n",
    "cnt_us_nulls  = []\n",
    "\n",
    "cnt_all       = []\n",
    "# запускаем цикл для расчета доли пропусков и общего количества данных в разрезе по годам\n",
    "for year in range(int(df['Year_of_Release'].min()),int(df['Year_of_Release'].max()+1)):\n",
    "    # выбираем каждый год по отдельности\n",
    "    df_2             = df[df['Year_of_Release'] == year]\n",
    "    # считаем количество пропусков в признаках - Rating, Critic_Score, User_Score\n",
    "    rt_count_null    = df_2[df_2['Rating'].isnull()].shape[0]\n",
    "    cs_count_null    = df_2[df_2['Critic_Score'].isnull()].shape[0]\n",
    "    us_count_null    = df_2[df_2['User_Score'].isnull()].shape[0]\n",
    "    # считаем количество пропусков в признаках - Rating, Critic_Score, User_Score\n",
    "    count_all     = df_2.shape[0]\n",
    "    # cчитаем процент пропущенных значений\n",
    "    rt_perc_nulls    = (rt_count_null/count_all)*100\n",
    "    cs_perc_nulls    = (cs_count_null/count_all)*100\n",
    "    us_perc_nulls    = (us_count_null/count_all)*100\n",
    "    # список годов с данными\n",
    "    years.append(year)\n",
    "    # список со значениями долей пропусков \n",
    "    # по годам у признаков - Rating, Critic_Score, User_Score\n",
    "    rt_nulls.append(rt_perc_nulls)\n",
    "    cs_nulls.append(cs_perc_nulls)\n",
    "    us_nulls.append(us_perc_nulls)\n",
    "    # список с суммарным количестовом пропусков \n",
    "    # по годам у признаков - Rating, Critic_Score, User_Score\n",
    "    cnt_rt_nulls.append(rt_count_null)\n",
    "    cnt_cs_nulls.append(cs_count_null)\n",
    "    cnt_us_nulls.append(us_count_null)\n",
    "    # списоок с общим количество данных по годам\n",
    "    cnt_all.append(count_all)\n",
    "    \n",
    "# создаем датафрейм с полученными значениями\n",
    "nuls_df = pd.DataFrame({'year':years,'rating_perc':rt_nulls,'critic_score_perc':cs_nulls,'user_score_perc':us_nulls,'rating_count':cnt_rt_nulls,'critic_score_count':cnt_cs_nulls,'user_score_count':cnt_us_nulls,'all_count':cnt_all})"
   ]
  },
  {
   "cell_type": "code",
   "execution_count": null,
   "metadata": {},
   "outputs": [],
   "source": [
    "type_nulls = ['rating_perc','critic_score_perc','user_score_perc']\n",
    "ax = plt.gca()\n",
    "# строим сравнительный график динамики изменений доли пропусков \n",
    "# по годам у признаков - Rating, Critic_Score, User_Score\n",
    "for type_name in type_nulls:\n",
    "    ax = nuls_df.plot(x='year', y=type_name, ax=ax, figsize=(14,6))\n",
    "    ax.set_title('Доли пропусков по годам', fontsize= 16)\n",
    "    ax.set_xlabel('Год', fontsize= 12)\n",
    "    ax.set_ylabel('Доля пропусков', fontsize= 12)"
   ]
  },
  {
   "cell_type": "code",
   "execution_count": null,
   "metadata": {},
   "outputs": [],
   "source": [
    "cnt_nulls = ['rating_count','critic_score_count','user_score_count','all_count']\n",
    "ax = plt.gca()\n",
    "# строим сравнительный график динамики изменений общего количества данных по годам, \n",
    "# и количества пропусков у признаков - Rating, Critic_Score, User_Score\n",
    "for cnt_name in cnt_nulls:\n",
    "    ax = nuls_df.plot(x='year', y=cnt_name, ax=ax, figsize=(14,6))\n",
    "    ax.set_title('Количество пропусков по годам', fontsize= 16)\n",
    "    ax.set_xlabel('Год', fontsize= 12)\n",
    "    ax.set_ylabel('Кол-во пропусков', fontsize= 12)"
   ]
  },
  {
   "cell_type": "markdown",
   "metadata": {},
   "source": [
    "Процент пропусков в период с 1980 по 1997 годы, близок к 100%, это можно объяснить тем что Рейтинг развлекательного программного обеспечения - Entertainment Software Rating Board (ESRB) ведется с 1994 года. Данная гипотеза подтверждается в дальнейшем т.к. происходит резкое падение процента пропущенных значений в признаках с оценками. Но при этом нельзя не отметить что большая часть пропусков данных с оценками зафиксированы в период с 2005 по 2016 годы. Здесь также прослеживается прямая зависимость количества пропусков по годам от общего количества данных, т.е. чем больше данных, тем больше пропусков."
   ]
  },
  {
   "cell_type": "markdown",
   "metadata": {},
   "source": [
    "<h2 id='Подготовка данных'>Подготовка данных</h2>\n",
    "<a name='4.'></a>\n",
    "<a class='anchor-link' href='#Подготовка данных'></a>"
   ]
  },
  {
   "cell_type": "code",
   "execution_count": null,
   "metadata": {},
   "outputs": [],
   "source": [
    "# приводим к нижнему регистру названия столбцов\n",
    "df.columns = df.columns.str.lower()"
   ]
  },
  {
   "cell_type": "code",
   "execution_count": null,
   "metadata": {},
   "outputs": [],
   "source": [
    "values = []\n",
    "columns = []\n",
    "sum_vals = 0\n",
    "\n",
    "for col_name in df.columns:\n",
    "    if col_name:\n",
    "        value = ((df[df[col_name].isnull()].shape[0]/df.shape[0])*100)\n",
    "        columns.append(col_name)\n",
    "        values.append(value)\n",
    "        sum_vals += value\n",
    "\n",
    "per_0 = pd.DataFrame(index=columns, data=values, columns=['perc_zero'])\n",
    "per_0 = per_0.sort_values(by='perc_zero',ascending=True)"
   ]
  },
  {
   "cell_type": "code",
   "execution_count": null,
   "metadata": {},
   "outputs": [],
   "source": [
    "per_0"
   ]
  },
  {
   "cell_type": "code",
   "execution_count": null,
   "metadata": {
    "scrolled": false
   },
   "outputs": [],
   "source": [
    "ax = per_0.sort_values(by='perc_zero',ascending=True).plot(kind='barh', figsize=(12,8))\n",
    "ax.set_title('Доли пропусков в признаках', fontsize= 16)\n",
    "ax.set_xlabel('Доля пропусков', fontsize= 12)\n",
    "ax.set_ylabel('Признак', fontsize= 12)\n",
    "plt.axvline(x=sum_vals/len(values),linewidth=1, color='r', linestyle='--')"
   ]
  },
  {
   "cell_type": "markdown",
   "metadata": {},
   "source": [
    "Тип столбца years_of_release пребразован в тип integer, т.к. значения годов являются целочисленными. Кроме того после преобразований с заменой пустых ячеек, а также строковых значений, значения в столбце user_score преобразованы в формат float, т.к. значения оценок в большинстве случаев указаны с точностью до сотых."
   ]
  },
  {
   "cell_type": "code",
   "execution_count": null,
   "metadata": {},
   "outputs": [],
   "source": [
    "df['rating'].unique()"
   ]
  },
  {
   "cell_type": "code",
   "execution_count": null,
   "metadata": {},
   "outputs": [],
   "source": [
    "df['rating'].value_counts()"
   ]
  },
  {
   "cell_type": "code",
   "execution_count": null,
   "metadata": {},
   "outputs": [],
   "source": [
    "df = df[df['year_of_release'].notnull()]"
   ]
  },
  {
   "cell_type": "code",
   "execution_count": null,
   "metadata": {},
   "outputs": [],
   "source": [
    "# замена пустых полей категориальных признаков на значения большинства\n",
    "df['name']              = df['name'].fillna(df['name'].describe()['top'])\n",
    "df['genre']             = df['genre'].fillna(df['genre'].describe()['top'])\n",
    "df['rating']            = df['rating'].fillna('Нет рейтинга')\n",
    "# замена tdb в user_score на пустые значения\n",
    "df['user_score']        = df['user_score'].replace({'tbd':np.NaN})\n",
    "# замена пустых полей количественных признаков на медианные значения\n",
    "#df['year_of_release']   = df['year_of_release'].fillna(df['year_of_release'].median())\n",
    "#df['critic_score']      = df['critic_score'].fillna(-1)\n",
    "#df['user_score']        = df['user_score'].fillna(-1)\n",
    "# замена значений категориального признака rating\n",
    "df['rating']            = df['rating'].replace({'E':'6+'})\n",
    "df['rating']            = df['rating'].replace({'T':'13+'})\n",
    "df['rating']            = df['rating'].replace({'M':'17+'})\n",
    "df['rating']            = df['rating'].replace({'E10+':'10+'})\n",
    "df['rating']            = df['rating'].replace({'EC':'3+'})\n",
    "df['rating']            = df['rating'].replace({'RP':'Рейтинг ожидается'})\n",
    "df['rating']            = df['rating'].replace({'K-A':'6+ старое'})\n",
    "df['rating']            = df['rating'].replace({'AO':'18+'})\n",
    "# приведение столбца с годами к типу integer\n",
    "df['year_of_release']   = df['year_of_release'].astype('int64')\n",
    "df['user_score']        = df['user_score'].astype('float')"
   ]
  },
  {
   "cell_type": "markdown",
   "metadata": {},
   "source": [
    "Больше всего пропусков зафиксировано в столбце - critic_score - 51.32%, а также user_score, rating по 40,09% и 40.48% соответственно, а также critic_score - 51.32%. Кроме того, малое количество пропуском зафиксировано в столбце years_of_release - 1.61%, а также name с genre по 0.01%. \n",
    "\n",
    "Пропущенные значения в столбце critic_score были заменены на -1. Встолбце - user_score кроме количественных значений оценок и пропусков найдены записи со значением - tbd. В результате поиска информации о данных объектах - определено что tbd - это аббривиатура (To Be Determined - будет определено), которая используется если количества отзывов недостаточно для вывода окончательной оценки. В связи с чем было принято решение считать данные значения как пропуски и заменить также на -1. Ввиду небольшого количества пропусков, а также из-за того что признаки являются категориальными, пропуски в столбцах - genre и name были заменены на значение большинства ячеек в признаке.\n",
    "\n",
    "Кроме того были изменены значения в признаке rating. После просмотра уникальных значений используемых в рамках данного признака, было установлено что данная градация установлена согласно Рейтинга развлекательного программного обеспечения - Entertainment Software Rating Board (ESRB). \n",
    "\n",
    "Далее приведены расшифровки названий групп:\n",
    "- «EC» («Early childhood») — «Для детей младшего возраста»\n",
    "- «E» («Everyone») — «Для всех» \t\"K-A\" (\"Kids to Adults\")\n",
    "- «E10+» («Everyone 10 and older») — «Для всех от 10 лет и старше»\n",
    "- «T» («Teen») — «Подросткам»\n",
    "- «M» («Mature») — «Для взрослых»\n",
    "- «AO» («Adults Only 18+») — «Только для взрослых»\n",
    "- «RP» («Rating Pending») — «Рейтинг ожидается»\n",
    "\n",
    "Для понятности в дальнейшем значения в признаке rating были заменены следующим образом:\n",
    "- EC на 3+\n",
    "- E на 6+\n",
    "- E10+ на 10+\n",
    "- Т на 13+\n",
    "- М на 17+\n",
    "- АО на 18+\n",
    "- RP на Рейтинг ожидается\n",
    "- Пустые значения на Нет рейтинга"
   ]
  },
  {
   "cell_type": "code",
   "execution_count": null,
   "metadata": {},
   "outputs": [],
   "source": [
    "# Суммарные продажи во всех регионах\n",
    "df['all_regs_sales'] = df['na_sales'] + df['eu_sales'] + df['jp_sales'] + df['other_sales']"
   ]
  },
  {
   "cell_type": "code",
   "execution_count": null,
   "metadata": {},
   "outputs": [],
   "source": [
    "# определяем списки категориальных и количественных признаков\n",
    "cat_cols = ['name','platform','genre','rating']\n",
    "num_cols = ['year_of_release','na_sales', 'eu_sales', 'jp_sales', 'other_sales','all_regs_sales',\n",
    "       'critic_score','user_score']"
   ]
  },
  {
   "cell_type": "code",
   "execution_count": null,
   "metadata": {},
   "outputs": [],
   "source": [
    "df.info()"
   ]
  },
  {
   "cell_type": "code",
   "execution_count": null,
   "metadata": {},
   "outputs": [],
   "source": [
    "df[cat_cols].describe()"
   ]
  },
  {
   "cell_type": "code",
   "execution_count": null,
   "metadata": {},
   "outputs": [],
   "source": [
    "df[num_cols].describe()"
   ]
  },
  {
   "cell_type": "markdown",
   "metadata": {},
   "source": [
    "<h2 id='Исследовательский анализ данных'>Исследовательский анализ данных</h2>\n",
    "<a name='5.'></a>\n",
    "<a class='anchor-link' href='#Исследовательский анализ данных'></a>"
   ]
  },
  {
   "cell_type": "code",
   "execution_count": null,
   "metadata": {},
   "outputs": [],
   "source": [
    "count_gemes_years = pd.DataFrame(columns=['years'], \n",
    "                               data=df['year_of_release'].values,\n",
    "                               index=df['year_of_release'].index)"
   ]
  },
  {
   "cell_type": "code",
   "execution_count": null,
   "metadata": {
    "scrolled": false
   },
   "outputs": [],
   "source": [
    "fig = px.histogram(count_gemes_years, x=\"years\")\n",
    "fig.update_layout(title='Распределение количества выпускаемых игр по годам')\n",
    "fig.show()"
   ]
  },
  {
   "cell_type": "markdown",
   "metadata": {},
   "source": [
    "На основе гистограммы с количеством игр выпускаемых в год за рассматриваемый период, можно сделать вывод что большая часть игр была выпущена в период с 1995 по 2016 годы. Но при этом видно что  после стабильного роста до 2009 года, последовал таке же стремительное падение до 2016 года. "
   ]
  },
  {
   "cell_type": "code",
   "execution_count": null,
   "metadata": {},
   "outputs": [],
   "source": [
    "def plat_sales_top(query=None):\n",
    "    if query == None:\n",
    "        ax = df.groupby('platform')['all_regs_sales'].sum().sort_values(ascending=True).plot(kind='barh',figsize=(10,10))\n",
    "        ax.set_title('Рейтинг продаж по платформам', fontsize= 16)\n",
    "        ax.set_xlabel('Общий объем продаж', fontsize= 12)\n",
    "        ax.set_ylabel('Платформа', fontsize= 12)\n",
    "    else:\n",
    "        ax = df.query(query).groupby('platform')['all_regs_sales'].sum().sort_values(ascending=True).plot(kind='barh',figsize=(12,8))\n",
    "        ax.set_title('Рейтинг продаж по платформам', fontsize= 16)\n",
    "        ax.set_xlabel('Общий объем продаж', fontsize= 12)\n",
    "        ax.set_ylabel('Платформа', fontsize= 12)"
   ]
  },
  {
   "cell_type": "code",
   "execution_count": null,
   "metadata": {},
   "outputs": [],
   "source": [
    "plat_sales_top()"
   ]
  },
  {
   "cell_type": "markdown",
   "metadata": {},
   "source": [
    "Выборка платформ с наибольшим суммарным объемом продаж"
   ]
  },
  {
   "cell_type": "code",
   "execution_count": null,
   "metadata": {},
   "outputs": [],
   "source": [
    "#df.pivot_table(index='platform', values='all_regs_sales', aggfunc='sum').sort_values(by='all_regs_sales', ascending=False).head(6)\n",
    "# первые 6\n",
    "top6_platform     = df.groupby('platform')['all_regs_sales'].sum().sort_values(ascending=False).head(6).index\n",
    "# первые 10\n",
    "top10_platform    = df.groupby('platform')['all_regs_sales'].sum().sort_values(ascending=False).head(10).index\n",
    "# первые 20\n",
    "top20_platform    = df.groupby('platform')['all_regs_sales'].sum().sort_values(ascending=False).head(20).index\n",
    "# все платформы\n",
    "all_platform      = df.groupby('platform')['all_regs_sales'].sum().sort_values(ascending=False).index"
   ]
  },
  {
   "cell_type": "markdown",
   "metadata": {},
   "source": [
    "Функция для постония линейного графика динамики измения продаж платформ по годам"
   ]
  },
  {
   "cell_type": "code",
   "execution_count": null,
   "metadata": {},
   "outputs": [],
   "source": [
    "def plot_platforms(data, start=2006, end=2016):\n",
    "    for i in range(0,len(data)):\n",
    "        axes = df[df['platform'] == data[i]].groupby('year_of_release')['all_regs_sales'].sum().plot(\n",
    "            y=data[i],\n",
    "            style='o-',\n",
    "            grid=True,\n",
    "            figsize=(18,12),\n",
    "            xlim=(start,end),\n",
    "            legend=True\n",
    "        )    \n",
    "        axes.set_title('Объем продаж платформ по годам', fontsize= 16)\n",
    "        axes.set_xlabel('Год', fontsize= 12)\n",
    "        axes.set_ylabel('Объем продаж', fontsize= 12)\n",
    "        axes.legend(data)"
   ]
  },
  {
   "cell_type": "markdown",
   "metadata": {},
   "source": [
    "Динамика изменения продаж за весь период по всем платформам"
   ]
  },
  {
   "cell_type": "code",
   "execution_count": null,
   "metadata": {},
   "outputs": [],
   "source": [
    "plot_platforms(all_platform, 1980,2017)"
   ]
  },
  {
   "cell_type": "code",
   "execution_count": null,
   "metadata": {},
   "outputs": [],
   "source": [
    "top6_platform"
   ]
  },
  {
   "cell_type": "code",
   "execution_count": null,
   "metadata": {},
   "outputs": [],
   "source": [
    "start_year   = df.groupby('platform')['year_of_release'].min()\n",
    "end_year     = df.groupby('platform')['year_of_release'].max()\n",
    "period_year  = end_year - start_year\n",
    "mean_year    = np.median(period_year)\n",
    "\n",
    "print('Медиана продолжительности нахождения платформ на рынке - {:.0f} лет'.format(mean_year))"
   ]
  },
  {
   "cell_type": "code",
   "execution_count": null,
   "metadata": {},
   "outputs": [],
   "source": [
    "ax = period_year.sort_values(ascending=True).plot(kind='barh', figsize=(10,10))\n",
    "plt.axvline(x=mean_year,linewidth=1, color='r', linestyle='--')\n",
    "ax.set_title('Жизненный цикл платформы ', fontsize= 16)\n",
    "ax.set_xlabel('Кол-во лет', fontsize= 12)\n",
    "ax.set_ylabel('Платформа', fontsize= 12)"
   ]
  },
  {
   "cell_type": "markdown",
   "metadata": {},
   "source": [
    "Как видно из динамики продаж платформ по годам, наибольший объем продаж у 6 платформ - PS2, X360, PS3, Wii, DS, PS. Однако у всех этих платформ наблюдается если не устойчивое падение объема продаж то полное его отсутствие на отчетный период 2016 года. \n",
    "Согласно полученому графику, видно что характерным периодом жизненного цикла платформы является - 6 лет. Кроме того, нельзя не отметить наличие выбросов в жизненных циклах платформ у PS и DS - 28 и 31 год соответственно, в связи с чем была расчитана медиана. Также у большинства платформ наблюдется динамика падения объемов продаж. При этом стоит отметить что активный рост рынка наблюдался с 1995 года вплоть до 2011 года после чего последовало устойчивое падение."
   ]
  },
  {
   "cell_type": "markdown",
   "metadata": {},
   "source": [
    "Динамика изменения продаж за период с 2010 по 2015 годы, по 6 платформам с наибольшим объемом продаж"
   ]
  },
  {
   "cell_type": "code",
   "execution_count": null,
   "metadata": {},
   "outputs": [],
   "source": [
    "plot_platforms(top6_platform, 2010, 2015)"
   ]
  },
  {
   "cell_type": "markdown",
   "metadata": {},
   "source": [
    "Динамика изменения продаж за период с 2010 по 2015 годы, по 10 платформам с наибольшим объемом продаж"
   ]
  },
  {
   "cell_type": "code",
   "execution_count": null,
   "metadata": {},
   "outputs": [],
   "source": [
    "plot_platforms(top10_platform, 2010, 2015)"
   ]
  },
  {
   "cell_type": "markdown",
   "metadata": {},
   "source": [
    "Динамика изменения продаж за период с 2010 по 2015 годы, по 20 платформам с наибольшим объемом продаж"
   ]
  },
  {
   "cell_type": "code",
   "execution_count": null,
   "metadata": {},
   "outputs": [],
   "source": [
    "#plot_platforms(top20_platform)\n",
    "plot_platforms(top20_platform, 2010, 2015)"
   ]
  },
  {
   "cell_type": "markdown",
   "metadata": {},
   "source": [
    "На основании рассмотренных диаграмм, для исключения значимых искажений распределения по платформам в 2016 году, стоит использовать период с 2010 по 2016 годы."
   ]
  },
  {
   "cell_type": "code",
   "execution_count": null,
   "metadata": {},
   "outputs": [],
   "source": [
    "df = df[df['year_of_release'] > 2009]"
   ]
  },
  {
   "cell_type": "markdown",
   "metadata": {},
   "source": [
    "Учитывая выявленный типичный период жизненного цикла платформы в 6 лет, сформируем выборку из названия платформы, года первых продаж, года последных продаж, а также значения суммарного количества лет платформы на рынке."
   ]
  },
  {
   "cell_type": "code",
   "execution_count": null,
   "metadata": {},
   "outputs": [],
   "source": [
    "min_max_years           = pd.DataFrame(data=df.groupby('platform')['year_of_release'].agg(['min','max']).values, \n",
    "                             index=df.groupby('platform')['year_of_release'].agg(['min','max']).index, \n",
    "                             columns=['min','max'])\n",
    "min_max_years['period'] = min_max_years['max'] - min_max_years['min']\n",
    "new_platform            = min_max_years[min_max_years['min'] > 2011].index"
   ]
  },
  {
   "cell_type": "markdown",
   "metadata": {},
   "source": [
    "Далее посмотрим на графике динамику количества игр на платформах по годам за период с 2012 по 2016 годы."
   ]
  },
  {
   "cell_type": "code",
   "execution_count": null,
   "metadata": {},
   "outputs": [],
   "source": [
    "plot_platforms(new_platform, 2011, 2017)"
   ]
  },
  {
   "cell_type": "markdown",
   "metadata": {},
   "source": [
    "На основании чего можно сделать предположение то платформы PS4, WiU и XOne обладают наибольшим потенциалом для роста среди всех рассматриваемых платформ."
   ]
  },
  {
   "cell_type": "code",
   "execution_count": null,
   "metadata": {},
   "outputs": [],
   "source": [
    "#plat_sales_top('year_of_release > 2005')\n",
    "plat_sales_top('year_of_release > 2009')"
   ]
  },
  {
   "cell_type": "markdown",
   "metadata": {},
   "source": [
    "Лидерами продаж в рамках рассматриваемого периода с 2010 по 2016 годы, можно выделить платформы - PS3, X360. Далее с небольшим отрывом следуют - PS4, 3DS, Wii. Остальный находятся позади."
   ]
  },
  {
   "cell_type": "code",
   "execution_count": null,
   "metadata": {},
   "outputs": [],
   "source": [
    "# сгруппируем данные поп платформам, и выведем по ним общий объем продаж\n",
    "platforms_all_sales       = pd.DataFrame(columns=['all_regs_sales'],\n",
    "                                   index=df.groupby('platform')['all_regs_sales'].sum().index, \n",
    "                                   data=df.groupby('platform')['all_regs_sales'].sum().values)\n",
    "# сгруппируем данные поп играм, и выведем по ним общий объем продаж\n",
    "names_all_sales           = pd.DataFrame(columns=['all_regs_sales'],\n",
    "                               index=df.groupby('name')['all_regs_sales'].sum().index, \n",
    "                               data=df.groupby('name')['all_regs_sales'].sum().values)"
   ]
  },
  {
   "cell_type": "markdown",
   "metadata": {},
   "source": [
    "Функция построения графика \"ящик с усами\" по продажам игр с разбивкой по платформам"
   ]
  },
  {
   "cell_type": "code",
   "execution_count": null,
   "metadata": {},
   "outputs": [],
   "source": [
    "def sales_boxplot(title=None, query_condition = None, ylims=None):\n",
    "    if query_condition == None:\n",
    "        ax = df.boxplot(column='all_regs_sales', fontsize=25, figsize=(25,10))\n",
    "    else:\n",
    "        df_query = df.query(query_condition)\n",
    "        by_column = query_condition.split()[0]\n",
    "        ax = df_query.boxplot(column='all_regs_sales', by=by_column, fontsize=25, figsize=(25,10))\n",
    "        ax.set_xlabel('')\n",
    "        ax.set_title('')\n",
    "    if ylims != None:\n",
    "        ax.set_ylim(ylims)\n",
    "    if title != None:\n",
    "        plt.suptitle(title, y=0.94, fontsize=25, fontweight='bold')"
   ]
  },
  {
   "cell_type": "code",
   "execution_count": null,
   "metadata": {},
   "outputs": [],
   "source": [
    "sales_boxplot('Сведения о продажах по топовым платформам', query_condition=\"platform in @top6_platform\", ylims=[0,2])"
   ]
  },
  {
   "cell_type": "markdown",
   "metadata": {},
   "source": [
    "Медианные значения у 5 платформ из топ-6, примерно схожи от 0.24 до 0.26. При этом выделяются верхние границы предела у платформ - X360 и PS3 в районе 1.7. В свою очередь стоит также отметить что у платформы DS показатели значительно меньше чем у остальных платформ."
   ]
  },
  {
   "cell_type": "markdown",
   "metadata": {},
   "source": [
    "Сведения об общем объеме продаж по всем платформам"
   ]
  },
  {
   "cell_type": "code",
   "execution_count": null,
   "metadata": {},
   "outputs": [],
   "source": [
    "platforms_all_sales.boxplot()"
   ]
  },
  {
   "cell_type": "markdown",
   "metadata": {},
   "source": [
    "Сведения об общем обеме продаж по всем играм"
   ]
  },
  {
   "cell_type": "code",
   "execution_count": null,
   "metadata": {},
   "outputs": [],
   "source": [
    "ax = names_all_sales.boxplot()\n",
    "ax.set_ylim([0,1.5])"
   ]
  },
  {
   "cell_type": "code",
   "execution_count": null,
   "metadata": {},
   "outputs": [],
   "source": [
    "#PS3\n",
    "ps3_critic_sales = df[(df['platform'] == 'PS3') & (df['critic_score'] > 0)]\n",
    "ps3_user_sales = df[(df['platform'] == 'PS3') & (df['user_score'] > 0)]\n",
    "#X360\n",
    "x360_critic_sales = df[(df['platform'] == 'X360') & (df['critic_score'] > 0)]\n",
    "x360_user_sales = df[(df['platform'] == 'X360') & (df['user_score'] > 0)]\n",
    "#PS4\n",
    "ps4_critic_sales = df[(df['platform'] == 'PS4') & (df['critic_score'] > 0)]\n",
    "ps4_user_sales = df[(df['platform'] == 'PS4') & (df['user_score'] > 0)]\n",
    "#3DS\n",
    "ds3_critic_sales = df[(df['platform'] == '3DS') & (df['critic_score'] > 0)]\n",
    "ds3_user_sales = df[(df['platform'] == '3DS') & (df['user_score'] > 0)]\n",
    "\n",
    "all_critic_sales = df[df['critic_score'] > 0]\n",
    "all_user_sales = df[df['user_score'] > 0]\n",
    "\n",
    "def scatter_plot(x,y,data,title=None):\n",
    "    fig = px.scatter(data, \n",
    "                     x=x, \n",
    "                     y=y, \n",
    "                     title=title)\n",
    "    fig.show() \n",
    "\n",
    "def corr_heatmap_plotly(data,title):\n",
    "    fig = go.Figure(data=go.Heatmap(\n",
    "                        z=data.corr(),\n",
    "                        x=data.corr().columns,\n",
    "                        y=data.corr().columns, \n",
    "                        title=title))\n",
    "    fig.show()\n",
    "    \n",
    "def corr_heatmap_seaborn(data,title):    \n",
    "    plt.figure(figsize=(15,8))\n",
    "    ax = sns.heatmap(data.corr(), annot=True, cmap=\"Blues\", fmt='.2f', annot_kws={'size':10})\n",
    "    ax.set_title(title, fontsize= 16)"
   ]
  },
  {
   "cell_type": "code",
   "execution_count": null,
   "metadata": {},
   "outputs": [],
   "source": [
    "scatter_plot('critic_score','all_regs_sales',ps3_critic_sales,'График зависимости объема продаж от оценки критиков для PS3')"
   ]
  },
  {
   "cell_type": "code",
   "execution_count": null,
   "metadata": {
    "scrolled": false
   },
   "outputs": [],
   "source": [
    "scatter_plot('user_score','all_regs_sales',ps3_user_sales,'График зависимости объема продаж от оценки пользователей для PS3')"
   ]
  },
  {
   "cell_type": "code",
   "execution_count": null,
   "metadata": {},
   "outputs": [],
   "source": [
    "scatter_plot('critic_score','all_regs_sales',x360_critic_sales,'График зависимости объема продаж от оценки критиков для X360')"
   ]
  },
  {
   "cell_type": "code",
   "execution_count": null,
   "metadata": {},
   "outputs": [],
   "source": [
    "scatter_plot('user_score','all_regs_sales',x360_user_sales,'График зависимости объема продаж от оценки пользователей для X360')"
   ]
  },
  {
   "cell_type": "code",
   "execution_count": null,
   "metadata": {},
   "outputs": [],
   "source": [
    "scatter_plot('critic_score','all_regs_sales',ps4_critic_sales,'График зависимости объема продаж от оценки критиков для PS4')"
   ]
  },
  {
   "cell_type": "code",
   "execution_count": null,
   "metadata": {},
   "outputs": [],
   "source": [
    "scatter_plot('user_score','all_regs_sales',ps4_user_sales,'График зависимости объема продаж от оценки пользователей для PS4')"
   ]
  },
  {
   "cell_type": "code",
   "execution_count": null,
   "metadata": {},
   "outputs": [],
   "source": [
    "scatter_plot('critic_score','all_regs_sales',ds3_critic_sales,'График зависимости объема продаж от оценки критиков для 3DS')"
   ]
  },
  {
   "cell_type": "code",
   "execution_count": null,
   "metadata": {},
   "outputs": [],
   "source": [
    "scatter_plot('user_score','all_regs_sales',ds3_user_sales,'График зависимости объема продаж от оценки пользователей для 3DS')"
   ]
  },
  {
   "cell_type": "code",
   "execution_count": null,
   "metadata": {},
   "outputs": [],
   "source": [
    "scatter_plot('critic_score','all_regs_sales',all_critic_sales[all_critic_sales['all_regs_sales'] < 15],'График зависимости объема продаж от оценки критиков для всех платформ')"
   ]
  },
  {
   "cell_type": "code",
   "execution_count": null,
   "metadata": {},
   "outputs": [],
   "source": [
    "scatter_plot('user_score','all_regs_sales',all_user_sales[all_user_sales['all_regs_sales'] < 15],'График зависимости объема продаж от оценки пользователей для всех платформ')"
   ]
  },
  {
   "cell_type": "markdown",
   "metadata": {},
   "source": [
    "Как видно из диаграммы имеет место зависимость объема продаж от уровня оценки критиков, соответственно можно сказать что чем качественней игра тем выше вероятность успешности продаж.\n",
    "Так же как и в случае с зависимостью продаж от оценок критиков, оценки пользователей имеют определенное влияние на успешность продаж игр. Но при этом стоит отмеить что возможны и выпадающие из общей картины выбросы с высоким уровнем продаж, вне зависимости от низких оценок пользователей.\n",
    "При этом стоит обратить внимание что у всех 4 платформ лидеров прослеживается схожесть в соотношении оценок критиков к объему продаж, в то же время в случае с соотношением оценок пользователей к объемам продаж имеется небольшое отличие у платформы PS4. Что может говорить о том что пользователи больше подвержены памяти о прошлых успехах данной линейки плаформ в отлииче от критиков, нежели объективным характеристикам текущих игр."
   ]
  },
  {
   "cell_type": "code",
   "execution_count": null,
   "metadata": {},
   "outputs": [],
   "source": [
    "corr_heatmap_seaborn(df,'Тепловая карта корреляции признаков')"
   ]
  },
  {
   "cell_type": "markdown",
   "metadata": {},
   "source": [
    "Как видно из тепловой карты корреляции признаков, примерно схожее влияние у оценок критиков и оценок пользователей на объем продаж игр. При этом имеется достаточно много оценок выбросов, в случае с пользовательскими оценками, что в свою очередь можно увязать с тем что критики стараются учитывать при постановке оценки большее количество факторов."
   ]
  },
  {
   "cell_type": "code",
   "execution_count": null,
   "metadata": {},
   "outputs": [],
   "source": [
    "# сгруппируем объем и количество продаж по жанрам игр \n",
    "df_genre_sales = df.groupby('genre').agg({'name':'count','all_regs_sales':'sum'}).sort_values(by='name', ascending=True)\n",
    "def game_genre_sales(data,title):\n",
    "    fig = go.Figure(data=[\n",
    "    go.Bar(name='Количество', x=data.index, y=data['name']),\n",
    "    go.Bar(name='Сумма', x=data.index, y=data['all_regs_sales'])\n",
    "    ])\n",
    "    fig.update_layout(barmode='group',title=title)\n",
    "    fig.show()"
   ]
  },
  {
   "cell_type": "code",
   "execution_count": null,
   "metadata": {},
   "outputs": [],
   "source": [
    "game_genre_sales(df_genre_sales,'Объем и количество продаж по жанрам')"
   ]
  },
  {
   "cell_type": "markdown",
   "metadata": {},
   "source": [
    "Согласно полученному графику можно сделать вывод что наиболее прибыльными жанрами являются - Action, Misc, Sports, Role-Playing, Adventure. При этом однозначно прямой зависимости между объемом продаж и количеством игр в жанре нет. К примеру в жанре наблюдается малое количество игр и значительный уровень объема продаж."
   ]
  },
  {
   "cell_type": "markdown",
   "metadata": {},
   "source": [
    "<h2 id='Составление портрета пользователя каждого региона'>Составление портрета пользователя каждого региона</h2>\n",
    "<a name='6.'></a>\n",
    "<a class='anchor-link' href='#Составление портрета пользователя каждого региона'></a>"
   ]
  },
  {
   "cell_type": "markdown",
   "metadata": {},
   "source": [
    "- Самые популярные платформы (топ-5)."
   ]
  },
  {
   "cell_type": "code",
   "execution_count": null,
   "metadata": {},
   "outputs": [],
   "source": [
    "def top_regs_fields(df_group, reg_name, ax):\n",
    "    data = df.groupby(df_group)[reg_name].sum().sort_values(ascending=True).tail()\n",
    "    dict_regs = {'na_sales':'North America','eu_sales':'Europe','jp_sales':'Japan'}\n",
    "    dict_cols = {'na_sales':'green','eu_sales':'blue','jp_sales':'red'}\n",
    "    plt = data.plot(kind='barh', grid=True, title=dict_regs[reg_name], color=dict_cols[reg_name], ax=axes[ax])\n",
    "    plt.legend(prop={'size':12})\n",
    "    plt.set_xlabel('')\n",
    "    plt.title.set_size(16)"
   ]
  },
  {
   "cell_type": "code",
   "execution_count": null,
   "metadata": {},
   "outputs": [],
   "source": [
    "fig, axes = plt.subplots(1,3,figsize=(24,8))\n",
    "top_regs_fields('platform','na_sales',0),\n",
    "top_regs_fields('platform','eu_sales',1),\n",
    "top_regs_fields('platform','jp_sales',2)"
   ]
  },
  {
   "cell_type": "markdown",
   "metadata": {},
   "source": [
    "Большая схожи ниболее популярные платформы у европейских и американских пользователей (X360, PS3, PS4, Wii), при этом в свою очередь они сильно отличаются от японских пользователей которые предпочитают - DS, 3D5."
   ]
  },
  {
   "cell_type": "markdown",
   "metadata": {},
   "source": [
    "- Самые популярные жанры (топ-5)."
   ]
  },
  {
   "cell_type": "code",
   "execution_count": null,
   "metadata": {},
   "outputs": [],
   "source": [
    "fig, axes = plt.subplots(1,3,figsize=(24,8))\n",
    "top_regs_fields('genre','na_sales',0),\n",
    "top_regs_fields('genre','eu_sales',1),\n",
    "top_regs_fields('genre','jp_sales',2)"
   ]
  },
  {
   "cell_type": "markdown",
   "metadata": {},
   "source": [
    "В случае с жанрами ситуация еще более ярко выраженна в плане различия между японскими и остальными пользователями. Европейские и американские пользователи предпочитают жанры - Action, Sports, Shooter, Misc. В свою очередь японские пользователи пердпочитают - Role-Playing, Platform. Но при этом нельзя упускать и общие интересы в Action, Misc, Sports."
   ]
  },
  {
   "cell_type": "code",
   "execution_count": null,
   "metadata": {},
   "outputs": [],
   "source": [
    "fig, axes = plt.subplots(1,3,figsize=(24,8))\n",
    "top_regs_fields('rating','na_sales',0),\n",
    "top_regs_fields('rating','eu_sales',1),\n",
    "top_regs_fields('rating','jp_sales',2)"
   ]
  },
  {
   "cell_type": "markdown",
   "metadata": {},
   "source": [
    "На основании графика можно сказать, что рейтинг ESRB во всех рассматриваемых регионах примерно схожий. Основное отличие с японским регионом состоит в том что в данных по данному региону много данных без указания рейтинга. "
   ]
  },
  {
   "cell_type": "markdown",
   "metadata": {},
   "source": [
    "<h2 id='Исследование статистических показателей'>Исследование статистических показателей</h2>\n",
    "<a name='7.'></a>\n",
    "<a class='anchor-link' href='#Исследование статистических показателей'></a>"
   ]
  },
  {
   "cell_type": "code",
   "execution_count": null,
   "metadata": {},
   "outputs": [],
   "source": [
    "# функция для вычисления стандартного отклонения, дисперсии и среднего значения\n",
    "def genre_score_indicators(score_name):    \n",
    "    means  = []\n",
    "    vars   = []\n",
    "    stds   = []    \n",
    "    for i in range(len(df['genre'].unique())):\n",
    "        genre_name         = df['genre'].unique()[i]\n",
    "        genre_group        = df[df['genre'] == genre_name]\n",
    "        mean_genre_group   = np.mean(genre_group[score_name])\n",
    "        var_genre_group    = np.var(genre_group[score_name])\n",
    "        std_genre_group    = np.std(genre_group[score_name])  \n",
    "        means.append(mean_genre_group)\n",
    "        vars.append(var_genre_group)\n",
    "        stds.append(std_genre_group)    \n",
    "    genre_indicators = pd.DataFrame({'genre':df['genre'].unique(),'means':means,'vars':vars,'stds':stds})    \n",
    "    genre_indicators.set_index('genre', inplace=True)\n",
    "    return genre_indicators\n",
    "\n",
    "# функция для построения гистограммы распределения оценок по жанрам\n",
    "def hist_genre_scores(data, score):\n",
    "    genre_list = data['genre'].unique()\n",
    "    for i in range(len(genre_list)):\n",
    "        plt.subplot(3,4,i+1)\n",
    "        plt.hist(data[data['genre'] == genre_list[i]][score].values)\n",
    "        plt.title(label=genre_list[i])\n",
    "\n",
    "# функция для построения столбчатых диаграмм статистических показателей \n",
    "# распределения оценок по жанрам\n",
    "def stat_values(data, reg_name, ax):\n",
    "    dict_regs = {'means':'Среднее','vars':'Дисперсия','stds':'Стд.откл.'}\n",
    "    dict_cols = {'means':'green','vars':'blue','stds':'red'}\n",
    "    plt = data.plot(kind='barh', grid=True, title=dict_regs[reg_name], color=dict_cols[reg_name], ax=axes[ax])\n",
    "    plt.set_xlabel('')\n",
    "    plt.set_ylabel('')\n",
    "    plt.title.set_size(16)"
   ]
  },
  {
   "cell_type": "code",
   "execution_count": null,
   "metadata": {},
   "outputs": [],
   "source": [
    "plt.figure(figsize=(15,10))\n",
    "hist_genre_scores(df, 'critic_score')"
   ]
  },
  {
   "cell_type": "code",
   "execution_count": null,
   "metadata": {},
   "outputs": [],
   "source": [
    "fig, axes = plt.subplots(1,3,figsize=(24,8))\n",
    "stat_values(genre_score_indicators('critic_score')['means'].sort_values(),'means',0),\n",
    "stat_values(genre_score_indicators('critic_score')['vars'].sort_values(),'vars',1),\n",
    "stat_values(genre_score_indicators('critic_score')['stds'].sort_values(),'stds',2)"
   ]
  },
  {
   "cell_type": "markdown",
   "metadata": {},
   "source": [
    "Ярковыраженным лидером с самыми высокими средними оценками от критиков является жанр - Shooter. Далее следуют со схожими средними оценками следуют жанры - Platform, Fighting, Racing. "
   ]
  },
  {
   "cell_type": "code",
   "execution_count": null,
   "metadata": {},
   "outputs": [],
   "source": [
    "plt.figure(figsize=(15,10))\n",
    "hist_genre_scores(df, 'user_score')"
   ]
  },
  {
   "cell_type": "code",
   "execution_count": null,
   "metadata": {},
   "outputs": [],
   "source": [
    "fig, axes = plt.subplots(1,3,figsize=(24,8))\n",
    "stat_values(genre_score_indicators('user_score')['means'].sort_values(),'means',0),\n",
    "stat_values(genre_score_indicators('user_score')['vars'].sort_values(),'vars',1),\n",
    "stat_values(genre_score_indicators('user_score')['stds'].sort_values(),'stds',2)"
   ]
  },
  {
   "cell_type": "markdown",
   "metadata": {},
   "source": [
    "Примерно схожие результаты в случае со средними оценками пользователей. Также как и с оценками критиков, в лидерах находится - Shooter. Далее следуют - Platform, Fighting, Racing."
   ]
  },
  {
   "cell_type": "markdown",
   "metadata": {},
   "source": [
    "<h2 id='Проверка гипотез'>Проверка гипотез</h2>\n",
    "<a name='8.'></a>\n",
    "<a class='anchor-link' href='#Проверка гипотез'></a>"
   ]
  },
  {
   "cell_type": "markdown",
   "metadata": {},
   "source": [
    "H0 (нулевая гипотеза) - средние пользовательские рейтинги платформ Xbox One и PC одинаковые\n",
    "\n",
    "H1 (альтернативная гипотеза) - Средние пользовательские рейтинги платформ Xbox One и PC отличаются"
   ]
  },
  {
   "cell_type": "code",
   "execution_count": null,
   "metadata": {},
   "outputs": [],
   "source": [
    "xone_mean   = df[(df['platform'] == 'XOne') & (df['user_score'] > 0)]['user_score'].values.mean()\n",
    "pc_mean     = df[(df['platform'] == 'PC') & (df['user_score'] > 0)]['user_score'].values.mean()\n",
    "print('Среднее значение пользовательских рейтингов платформы Xbox One - {:.2f}'.format(xone_mean))\n",
    "print('Среднее значение пользовательских рейтингов платформы PC - {:.2f}'.format(pc_mean))"
   ]
  },
  {
   "cell_type": "code",
   "execution_count": null,
   "metadata": {},
   "outputs": [],
   "source": [
    "xone_user_scores = df[(df['platform'] == 'XOne') & (df['user_score'] > 0)]['user_score'].values\n",
    "pc_user_scores = df[(df['platform'] == 'PC') & (df['user_score'] > 0)]['user_score'].values\n",
    "alpha = 0.05\n",
    "result = st.ttest_ind(xone_user_scores, pc_user_scores)"
   ]
  },
  {
   "cell_type": "code",
   "execution_count": null,
   "metadata": {},
   "outputs": [],
   "source": [
    "print('stat:', result.statistic)\n",
    "print('p-value:', result.pvalue)"
   ]
  },
  {
   "cell_type": "code",
   "execution_count": null,
   "metadata": {},
   "outputs": [],
   "source": [
    "if (result.pvalue < alpha):\n",
    "    print('Отвергаем нулевую гипотезу')\n",
    "else:\n",
    "    print('Нулевая гипотеза не отвергнута')"
   ]
  },
  {
   "cell_type": "markdown",
   "metadata": {},
   "source": [
    "Можно отклонить нулевую гипотезу. Соответственно верно утверждение - Средние пользовательские рейтинги платформ Xbox One и PC отличаются"
   ]
  },
  {
   "cell_type": "markdown",
   "metadata": {},
   "source": [
    "H0 (нулевая гипотеза) - средние пользовательские рейтинги жанров Action и Sports (англ. «виды спорта») одинаковые\n",
    "\n",
    "H1 (альтернативная гипотеза) - средние пользовательские рейтинги жанров Action и Sports (англ. «виды спорта») разные"
   ]
  },
  {
   "cell_type": "code",
   "execution_count": null,
   "metadata": {},
   "outputs": [],
   "source": [
    "action_mean = df[(df['genre'] == 'Action') & (df['user_score'] > 0)]['user_score'].values.mean()\n",
    "sports_mean = df[(df['genre'] == 'Sports') & (df['user_score'] > 0)]['user_score'].values.mean()\n",
    "print('Среднее значение пользовательских рейтингов жанра Action - {:.2f}'.format(action_mean))\n",
    "print('Среднее значение пользовательских рейтингов жанра Sports - {:.2f}'.format(sports_mean))"
   ]
  },
  {
   "cell_type": "code",
   "execution_count": null,
   "metadata": {},
   "outputs": [],
   "source": [
    "action_user_scores = df[(df['genre'] == 'Action') & (df['user_score'] > 0)]['user_score'].values\n",
    "sports_user_scores = df[(df['genre'] == 'Sports') & (df['user_score'] > 0)]['user_score'].values\n",
    "alpha = 0.05\n",
    "result = st.ttest_ind(action_user_scores, sports_user_scores)"
   ]
  },
  {
   "cell_type": "code",
   "execution_count": null,
   "metadata": {},
   "outputs": [],
   "source": [
    "print('stat:', result.statistic)\n",
    "print('p-value:', result.pvalue)"
   ]
  },
  {
   "cell_type": "code",
   "execution_count": null,
   "metadata": {},
   "outputs": [],
   "source": [
    "if (result.pvalue < alpha):\n",
    "    print('Отвергаем нулевую гипотезу')\n",
    "else:\n",
    "    print('Нулевая гипотеза не отвергнута')"
   ]
  },
  {
   "cell_type": "markdown",
   "metadata": {},
   "source": [
    "Нулевая гипотеза не может быть отвергнута. Следовательно верно утверждение - средние пользовательские рейтинги жанров Action и Sports одинаковые."
   ]
  },
  {
   "cell_type": "markdown",
   "metadata": {},
   "source": [
    "<h2 id='Общий вывод'>Общий вывод</h2>\n",
    "<a name='9.'></a>\n",
    "<a class='anchor-link' href='#Общий вывод'></a>"
   ]
  },
  {
   "cell_type": "markdown",
   "metadata": {},
   "source": [
    "По проведенному анализу можно сделать вывод что весомое значние в успешность игры вносит как оценки критиков так и пользователей. \n",
    "\n",
    "Кроме того следует в качестве рекомендации отметить что наиболее успешными жанрами среди большинства пользователей являются - Action, Sports, Shooter. \n",
    "\n",
    "А также иметь обраить внимание на перспективные платформы которые относительно недавно вышли на рынок и имеют потенциал для последующего роста - PS4, WiU и XOne.\n",
    "\n",
    "В общем можно отметить отчетливую динамику снижения объема продаж игр, что говорит о необходимости более осмотрительно входить на рынок игровой индустрии учитывая имеющиеся закономерности."
   ]
  }
 ],
 "metadata": {
  "kernelspec": {
   "display_name": "Python 3",
   "language": "python",
   "name": "python3"
  },
  "language_info": {
   "codemirror_mode": {
    "name": "ipython",
    "version": 3
   },
   "file_extension": ".py",
   "mimetype": "text/x-python",
   "name": "python",
   "nbconvert_exporter": "python",
   "pygments_lexer": "ipython3",
   "version": "3.8.3"
  },
  "toc": {
   "base_numbering": 1,
   "nav_menu": {},
   "number_sections": true,
   "sideBar": true,
   "skip_h1_title": true,
   "title_cell": "Table of Contents",
   "title_sidebar": "Contents",
   "toc_cell": false,
   "toc_position": {},
   "toc_section_display": true,
   "toc_window_display": false
  }
 },
 "nbformat": 4,
 "nbformat_minor": 2
}
